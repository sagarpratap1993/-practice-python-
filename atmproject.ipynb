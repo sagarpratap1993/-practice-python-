{
 "cells": [
  {
   "cell_type": "code",
   "execution_count": 21,
   "metadata": {},
   "outputs": [],
   "source": [
    "class atm():\n",
    "    def __init__(self):\n",
    "        self.card_number=\"000000\"\n",
    "        self.pin=5604\n",
    "        self.balance=10000\n",
    "    def welcome(self):\n",
    "        print(\"welcome to kotak mahindra bank\")\n",
    "        a=int(input(\"kindly enter your pin\"))\n",
    "        if a==self.pin:\n",
    "            option=input(\"\"\"kindly choose your option\n",
    "            1.withdrawal\n",
    "            2.change pin\n",
    "            3.balance inquiry\"\"\")\n",
    "            if option==\"1\":\n",
    "                print(\"welcome to withdrawal section\")\n",
    "                self. withdrawal()\n",
    "            elif option==\"2\":\n",
    "                print(\"welcome to change pin section\")\n",
    "            elif option==\"3\":\n",
    "                print(\"welcome to cheak balance section\") \n",
    "            else:\n",
    "                print(\"go to hell\")       \n",
    "        \n",
    "            \n",
    "    def withdrawal(self):\n",
    "        print(\"kindly collect your cash\")\n",
    "    def change_pin(self):\n",
    "        print(\"welcome to change pin section \")\n",
    "    def deposite(self):\n",
    "        print(\"kindly collect your deposite slip\")\n",
    "    def balance(self):\n",
    "        print(\"welcome to balance enquiry section\")                "
   ]
  },
  {
   "cell_type": "code",
   "execution_count": 22,
   "metadata": {},
   "outputs": [],
   "source": [
    "sagar=atm()"
   ]
  },
  {
   "cell_type": "code",
   "execution_count": 20,
   "metadata": {},
   "outputs": [
    {
     "name": "stdout",
     "output_type": "stream",
     "text": [
      "welcome to kotak mahindra bank\n",
      "welcome to withdrawal section\n",
      "kindly collect your cash\n"
     ]
    }
   ],
   "source": [
    "sagar.welcome()"
   ]
  },
  {
   "cell_type": "code",
   "execution_count": 14,
   "metadata": {},
   "outputs": [
    {
     "name": "stdout",
     "output_type": "stream",
     "text": [
      "welcome to kotak mahindra bank\n",
      "welcome to pin change section\n"
     ]
    }
   ],
   "source": [
    "sagar.welcome()"
   ]
  },
  {
   "cell_type": "code",
   "execution_count": 23,
   "metadata": {},
   "outputs": [
    {
     "name": "stdout",
     "output_type": "stream",
     "text": [
      "welcome to kotak mahindra bank\n",
      "welcome to cheak balance section\n"
     ]
    }
   ],
   "source": [
    "sagar.welcome()"
   ]
  },
  {
   "cell_type": "code",
   "execution_count": 7,
   "metadata": {},
   "outputs": [
    {
     "data": {
      "text/plain": [
       "0.0"
      ]
     },
     "execution_count": 7,
     "metadata": {},
     "output_type": "execute_result"
    }
   ],
   "source": [
    "sagar.balance"
   ]
  },
  {
   "cell_type": "code",
   "execution_count": 8,
   "metadata": {},
   "outputs": [],
   "source": [
    "sagar.card_number=1111111"
   ]
  },
  {
   "cell_type": "code",
   "execution_count": 8,
   "metadata": {},
   "outputs": [
    {
     "data": {
      "text/plain": [
       "1111111"
      ]
     },
     "execution_count": 8,
     "metadata": {},
     "output_type": "execute_result"
    }
   ],
   "source": [
    "sagar.card_number"
   ]
  },
  {
   "cell_type": "code",
   "execution_count": 9,
   "metadata": {},
   "outputs": [
    {
     "data": {
      "text/plain": [
       "'5604'"
      ]
     },
     "execution_count": 9,
     "metadata": {},
     "output_type": "execute_result"
    }
   ],
   "source": [
    "sagar.pin"
   ]
  },
  {
   "cell_type": "code",
   "execution_count": 11,
   "metadata": {},
   "outputs": [],
   "source": [
    "sagar.pin=\"sagar\""
   ]
  },
  {
   "cell_type": "code",
   "execution_count": 13,
   "metadata": {},
   "outputs": [
    {
     "name": "stdout",
     "output_type": "stream",
     "text": [
      "<class 'str'>\n"
     ]
    }
   ],
   "source": [
    "print(type(sagar.pin))"
   ]
  },
  {
   "cell_type": "code",
   "execution_count": 16,
   "metadata": {},
   "outputs": [
    {
     "name": "stdout",
     "output_type": "stream",
     "text": [
      "kindly collect your deposite slip\n"
     ]
    }
   ],
   "source": [
    "sagar.deposite()"
   ]
  },
  {
   "cell_type": "code",
   "execution_count": 17,
   "metadata": {},
   "outputs": [
    {
     "name": "stdout",
     "output_type": "stream",
     "text": [
      "welcome to kotak mahindra bank\n"
     ]
    }
   ],
   "source": [
    "sagar.welcome()"
   ]
  },
  {
   "cell_type": "code",
   "execution_count": 9,
   "metadata": {},
   "outputs": [
    {
     "data": {
      "text/plain": [
       "0.0"
      ]
     },
     "execution_count": 9,
     "metadata": {},
     "output_type": "execute_result"
    }
   ],
   "source": [
    "sagar.balance"
   ]
  },
  {
   "cell_type": "code",
   "execution_count": 10,
   "metadata": {},
   "outputs": [
    {
     "name": "stdout",
     "output_type": "stream",
     "text": [
      "kindly collect your cash \n"
     ]
    }
   ],
   "source": [
    "sagar.cash()"
   ]
  },
  {
   "cell_type": "code",
   "execution_count": 11,
   "metadata": {},
   "outputs": [],
   "source": [
    "sagar.balance=10"
   ]
  },
  {
   "cell_type": "code",
   "execution_count": 12,
   "metadata": {},
   "outputs": [
    {
     "data": {
      "text/plain": [
       "10"
      ]
     },
     "execution_count": 12,
     "metadata": {},
     "output_type": "execute_result"
    }
   ],
   "source": [
    "sagar.balance"
   ]
  },
  {
   "cell_type": "code",
   "execution_count": 13,
   "metadata": {},
   "outputs": [],
   "source": [
    "rahul=atm()"
   ]
  },
  {
   "cell_type": "code",
   "execution_count": 14,
   "metadata": {},
   "outputs": [],
   "source": [
    "rahul.pin=4569"
   ]
  },
  {
   "cell_type": "code",
   "execution_count": 15,
   "metadata": {},
   "outputs": [],
   "source": [
    "rahul.card_number=\"125698\""
   ]
  },
  {
   "cell_type": "code",
   "execution_count": 16,
   "metadata": {},
   "outputs": [],
   "source": [
    "rahul.balance=100"
   ]
  },
  {
   "cell_type": "code",
   "execution_count": 17,
   "metadata": {},
   "outputs": [
    {
     "data": {
      "text/plain": [
       "100"
      ]
     },
     "execution_count": 17,
     "metadata": {},
     "output_type": "execute_result"
    }
   ],
   "source": [
    "rahul.balance"
   ]
  },
  {
   "cell_type": "code",
   "execution_count": 2,
   "metadata": {},
   "outputs": [],
   "source": [
    "class atm():\n",
    "    def __init__(self):\n",
    "        self.card_number=\"000000\"\n",
    "        self.pin=5604\n",
    "        self.balance=10000\n",
    "    def welcome(self):\n",
    "        print(\"welcome to kotak mahindra bank\")\n",
    "        a=int(input(\"kindly enter your pin\"))\n",
    "        if a==self.pin:\n",
    "            option=input(\"\"\"kindly choose your option\n",
    "            1.withdrawal\n",
    "            2.change pin\n",
    "            3.balance inquiry\n",
    "            4.deposite\"\"\")\n",
    "            if option==\"1\":\n",
    "                print(\"welcome to withdrawal section\")\n",
    "                self. withdrawal()\n",
    "            elif option==\"2\":\n",
    "                print(\"welcome to change pin section\")\n",
    "                self.change_pin()\n",
    "            elif option==\"3\":\n",
    "                print(\"welcome to cheak balance section\") \n",
    "                self.balance_enquiry()\n",
    "            elif option==\"4\":\n",
    "                print(\"welcome to deposite section\")    \n",
    "                self.deposite()\n",
    "            else:\n",
    "                print(\"go to hell\")       \n",
    "        \n",
    "            \n",
    "    def withdrawal(self):\n",
    "        pin2=int(input(\"enter your pin to cheak withdrawal\"))\n",
    "        if pin2==self.pin:\n",
    "         print(\"kindly collect your cash\")\n",
    "    def change_pin(self):\n",
    "        print(\"kindly change your pin \")\n",
    "    def deposite(self):\n",
    "        print(\"kindly collect your deposite slip\")\n",
    "    def balance_enquiry(self):\n",
    "        print(\"kindly cheak your balance enquiry\")                "
   ]
  },
  {
   "cell_type": "code",
   "execution_count": 3,
   "metadata": {},
   "outputs": [],
   "source": [
    "ram=atm()"
   ]
  },
  {
   "cell_type": "code",
   "execution_count": 26,
   "metadata": {},
   "outputs": [
    {
     "name": "stdout",
     "output_type": "stream",
     "text": [
      "welcome to kotak mahindra bank\n",
      "welcome to withdrawal section\n",
      "kindly collect your cash\n"
     ]
    }
   ],
   "source": [
    "ram.welcome()"
   ]
  },
  {
   "cell_type": "code",
   "execution_count": 27,
   "metadata": {},
   "outputs": [
    {
     "name": "stdout",
     "output_type": "stream",
     "text": [
      "welcome to kotak mahindra bank\n",
      "welcome to change pin section\n",
      "kindly change your pin \n"
     ]
    }
   ],
   "source": [
    "ram.welcome()\n",
    "\n"
   ]
  },
  {
   "cell_type": "code",
   "execution_count": 7,
   "metadata": {},
   "outputs": [],
   "source": [
    "ram.pin=1234"
   ]
  },
  {
   "cell_type": "code",
   "execution_count": 6,
   "metadata": {},
   "outputs": [
    {
     "name": "stdout",
     "output_type": "stream",
     "text": [
      "kindly collect your cash\n"
     ]
    }
   ],
   "source": [
    "ram.withdrawal()"
   ]
  },
  {
   "cell_type": "code",
   "execution_count": 8,
   "metadata": {},
   "outputs": [
    {
     "name": "stdout",
     "output_type": "stream",
     "text": [
      "kindly collect your cash\n"
     ]
    }
   ],
   "source": [
    "ram.withdrawal()"
   ]
  },
  {
   "cell_type": "code",
   "execution_count": 2,
   "metadata": {},
   "outputs": [],
   "source": [
    "class atm():\n",
    "    def __init__(self):\n",
    "        self.card_number=\"000000\"\n",
    "        self.pin=\"5604\"\n",
    "        self.balance=10000\n",
    "    def welcome(self):\n",
    "        print(\"welcome to kotak mahindra bank\")\n",
    "        a=input(\"kindly enter your pin\")\n",
    "        self.kyc()\n",
    "        new_pin=input(\"enter your new pin\")\n",
    "        if new_pin==self.pin:\n",
    "          #if new_pin==self.pin:\n",
    "            option=input(\"\"\"kindly choose your option\n",
    "            1.withdrawal\n",
    "            2.change pin\n",
    "            3.balance inquiry\n",
    "            4.deposite\"\"\")\n",
    "            if option==\"1\":\n",
    "                print(\"welcome to withdrawal section\")\n",
    "                self. withdrawal()\n",
    "            elif option==\"2\":\n",
    "                print(\"welcome to change pin section\")\n",
    "                self.change_pin()\n",
    "            elif option==\"3\":\n",
    "                print(\"welcome to cheak balance section\") \n",
    "                self.balance_enquiry()\n",
    "            elif option==\"4\":\n",
    "                print(\"welcome to deposite section\")    \n",
    "                self.deposite()\n",
    "            else:\n",
    "                print(\"go to hell\") \n",
    "        else:\n",
    "            print(\"invalid pin kindly try again\")\n",
    "            \n",
    "                  \n",
    "        \n",
    "            \n",
    "    def kyc(self):\n",
    "        card=input(\"enter your card number\")\n",
    "        card_number=card\n",
    "        print(\"your card is stored succesfully\")\n",
    "        pin=input(\"enter your 4digit pin:\")\n",
    "        self.pin=pin\n",
    "        balance=eval(input(\"enter your bank balance\"))\n",
    "        self.balance=balance\n",
    "    def withdrawal(self):\n",
    "        pin2=int(input(\"enter your pin to cheak withdrawal\"))\n",
    "        if pin2==self.pin:\n",
    "         print(\"kindly collect your cash\")\n",
    "    def change_pin(self):\n",
    "        print(\"kindly change your pin \")\n",
    "    def deposite(self):\n",
    "        print(\"kindly collect your deposite slip\")\n",
    "    def balance_enquiry(self):\n",
    "        print(\"kindly cheak your balance enquiry\")                "
   ]
  },
  {
   "cell_type": "code",
   "execution_count": 3,
   "metadata": {},
   "outputs": [],
   "source": [
    "shiv=atm()"
   ]
  },
  {
   "cell_type": "code",
   "execution_count": 4,
   "metadata": {},
   "outputs": [],
   "source": [
    "shiv.pin=\"1234\""
   ]
  },
  {
   "cell_type": "code",
   "execution_count": 6,
   "metadata": {},
   "outputs": [
    {
     "name": "stdout",
     "output_type": "stream",
     "text": [
      "welcome to kotak mahindra bank\n",
      "your card is stored succesfully\n",
      "welcome to withdrawal section\n"
     ]
    }
   ],
   "source": [
    "shiv.welcome()"
   ]
  },
  {
   "cell_type": "code",
   "execution_count": 53,
   "metadata": {},
   "outputs": [
    {
     "data": {
      "text/plain": [
       "'1234'"
      ]
     },
     "execution_count": 53,
     "metadata": {},
     "output_type": "execute_result"
    }
   ],
   "source": [
    "shiv.pin"
   ]
  },
  {
   "cell_type": "code",
   "execution_count": 61,
   "metadata": {},
   "outputs": [],
   "source": [
    "#encapsulation--> to hide any data by using __(underscore)\n",
    "class atm():\n",
    "    def __init__(self):\n",
    "        self.__card_number=\"000000\"\n",
    "        self.__pin=\"5604\"\n",
    "        self.__balance=10000\n",
    "    def welcome(self):\n",
    "        print(\"welcome to kotak mahindra bank\")\n",
    "        #a=input(\"kindly enter your pin\")\n",
    "        self.kyc()\n",
    "    def option(self):\n",
    "        new_pin=input(\"enter your new pin\")\n",
    "        if new_pin==self.pin:\n",
    "          #if new_pin==self.pin:\n",
    "            option=input(\"\"\"kindly choose your option\n",
    "            1.withdrawal\n",
    "            2.change pin\n",
    "            3.balance inquiry\n",
    "            4.deposite\"\"\")\n",
    "            if option==\"1\":\n",
    "                print(\"welcome to withdrawal section\")\n",
    "                self. withdrawal()\n",
    "            elif option==\"2\":\n",
    "                print(\"welcome to change pin section\")\n",
    "                self.change_pin()\n",
    "            elif option==\"3\":\n",
    "                print(\"welcome to cheak balance section\") \n",
    "                self.balance_enquiry()\n",
    "            elif option==\"4\":\n",
    "                print(\"welcome to deposite section\")    \n",
    "                self.deposite()\n",
    "            else:\n",
    "                print(\"go to hell\") \n",
    "        else:\n",
    "            print(\"invalid pin kindly try again\")\n",
    "            \n",
    "                  \n",
    "        \n",
    "            \n",
    "    def kyc(self):\n",
    "        card=input(\"enter your card number\")\n",
    "        self.__card_number=card\n",
    "        print(\"your card is stored succesfully\")\n",
    "        pin=input(\"enter your 4digit pin:\")\n",
    "        self.__pin=pin\n",
    "        balance=eval(input(\"enter your bank balance\"))\n",
    "        self.__balance=balance\n",
    "        self.option()\n",
    "    def withdrawal(self):\n",
    "        balance=eval(input(\"enter your withdrawal amount\"))\n",
    "        if balance<=self.balance:\n",
    "            print(f\"kindly collect your amount Rs:{balance}\")\n",
    "            print(f\"your current balance is Rs:{self.balance-balance}\")\n",
    "        else:\n",
    "            print(\"you have insuffecient balance in your account:\")\n",
    "            self.goodbye()\n",
    "            \n",
    "    def change_pin(self):\n",
    "        pass\n",
    "    def deposite(self):\n",
    "        pass\n",
    "    def balance_enquiry(self):\n",
    "        pass\n",
    "    def goodbye(self):\n",
    "        a=input(\"would you like to use another option: if yes press 1 or if no press 0\")\n",
    "        if a==\"1\":\n",
    "          self.option()\n",
    "        else:\n",
    "            print(\"thankyou banking with us\")  \n",
    "        "
   ]
  },
  {
   "cell_type": "code",
   "execution_count": 62,
   "metadata": {},
   "outputs": [],
   "source": [
    "sabhu=atm()"
   ]
  },
  {
   "cell_type": "code",
   "execution_count": 63,
   "metadata": {},
   "outputs": [],
   "source": [
    "sabhu.pin=\"5678\""
   ]
  },
  {
   "cell_type": "code",
   "execution_count": 64,
   "metadata": {},
   "outputs": [
    {
     "ename": "AttributeError",
     "evalue": "'atm' object has no attribute '__card_number'",
     "output_type": "error",
     "traceback": [
      "\u001b[1;31m---------------------------------------------------------------------------\u001b[0m",
      "\u001b[1;31mAttributeError\u001b[0m                            Traceback (most recent call last)",
      "Cell \u001b[1;32mIn[64], line 1\u001b[0m\n\u001b[1;32m----> 1\u001b[0m sabhu\u001b[39m.\u001b[39;49m__card_number  \u001b[39m# it can not give value because we will hide card no by using encapsulation\u001b[39;00m\n",
      "\u001b[1;31mAttributeError\u001b[0m: 'atm' object has no attribute '__card_number'"
     ]
    }
   ],
   "source": [
    "sabhu.__card_number  # it can not give value because we will hide card no by using encapsulation"
   ]
  },
  {
   "cell_type": "code",
   "execution_count": 59,
   "metadata": {},
   "outputs": [
    {
     "name": "stdout",
     "output_type": "stream",
     "text": [
      "welcome to kotak mahindra bank\n",
      "your card is stored succesfully\n",
      "welcome to withdrawal section\n",
      "you have insuffecient balance in your account:\n",
      "welcome to withdrawal section\n",
      "you have insuffecient balance in your account:\n",
      "thankyou banking with us\n"
     ]
    }
   ],
   "source": [
    "sabhu.welcome()"
   ]
  },
  {
   "cell_type": "code",
   "execution_count": 65,
   "metadata": {},
   "outputs": [
    {
     "ename": "AttributeError",
     "evalue": "'atm' object has no attribute '__balance'",
     "output_type": "error",
     "traceback": [
      "\u001b[1;31m---------------------------------------------------------------------------\u001b[0m",
      "\u001b[1;31mAttributeError\u001b[0m                            Traceback (most recent call last)",
      "Cell \u001b[1;32mIn[65], line 1\u001b[0m\n\u001b[1;32m----> 1\u001b[0m sabhu\u001b[39m.\u001b[39;49m__balance\n",
      "\u001b[1;31mAttributeError\u001b[0m: 'atm' object has no attribute '__balance'"
     ]
    }
   ],
   "source": [
    "sabhu.__balance # because encapsulation"
   ]
  },
  {
   "cell_type": "code",
   "execution_count": null,
   "metadata": {},
   "outputs": [],
   "source": []
  }
 ],
 "metadata": {
  "kernelspec": {
   "display_name": "Python 3",
   "language": "python",
   "name": "python3"
  },
  "language_info": {
   "codemirror_mode": {
    "name": "ipython",
    "version": 3
   },
   "file_extension": ".py",
   "mimetype": "text/x-python",
   "name": "python",
   "nbconvert_exporter": "python",
   "pygments_lexer": "ipython3",
   "version": "3.11.1"
  },
  "orig_nbformat": 4
 },
 "nbformat": 4,
 "nbformat_minor": 2
}
