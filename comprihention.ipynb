{
 "cells": [
  {
   "cell_type": "code",
   "execution_count": 3,
   "metadata": {},
   "outputs": [
    {
     "name": "stdout",
     "output_type": "stream",
     "text": [
      "[0]\n",
      "[0, 1]\n",
      "[0, 1, 2]\n",
      "[0, 1, 2, 3]\n",
      "[0, 1, 2, 3, 4]\n",
      "[0, 1, 2, 3, 4, 5]\n",
      "[0, 1, 2, 3, 4, 5, 6]\n",
      "[0, 1, 2, 3, 4, 5, 6, 7]\n",
      "[0, 1, 2, 3, 4, 5, 6, 7, 8]\n",
      "[0, 1, 2, 3, 4, 5, 6, 7, 8, 9]\n",
      "[0, 1, 2, 3, 4, 5, 6, 7, 8, 9]\n"
     ]
    }
   ],
   "source": [
    "#list comprihention\n",
    "a=[]\n",
    "for i in range(10):\n",
    "    a.append(i)\n",
    "    print(a)\n",
    "print(a)        \n"
   ]
  },
  {
   "cell_type": "code",
   "execution_count": 23,
   "metadata": {},
   "outputs": [
    {
     "name": "stdout",
     "output_type": "stream",
     "text": [
      "[1, 4, 0]\n",
      "[1, 4, 0, 1]\n",
      "[1, 4, 0, 1, 2]\n",
      "[1, 4, 0, 1, 2, 3]\n",
      "[1, 4, 0, 1, 2, 3, 4]\n",
      "[1, 4, 0, 1, 2, 3, 4, 5]\n",
      "[1, 4, 0, 1, 2, 3, 4, 5, 6]\n",
      "[1, 4, 0, 1, 2, 3, 4, 5, 6, 7]\n",
      "[1, 4, 0, 1, 2, 3, 4, 5, 6, 7, 8]\n",
      "[1, 4, 0, 1, 2, 3, 4, 5, 6, 7, 8, 9]\n",
      "[1, 4, 0, 1, 2, 3, 4, 5, 6, 7, 8, 9]\n"
     ]
    }
   ],
   "source": [
    "#list comprihention\n",
    "a=[1,4]\n",
    "for i in range (10):\n",
    "       a.append(i)\n",
    "       print(a) \n",
    "print(a)"
   ]
  },
  {
   "cell_type": "code",
   "execution_count": 24,
   "metadata": {},
   "outputs": [
    {
     "name": "stdout",
     "output_type": "stream",
     "text": [
      "[1, 4, 0, 1, 2, 3, 4, 5, 6, 7, 8, 9]\n"
     ]
    }
   ],
   "source": [
    "a=[1,4]\n",
    "for i in range(10):\n",
    "    a.append(i)\n",
    "print(a)"
   ]
  },
  {
   "cell_type": "code",
   "execution_count": 4,
   "metadata": {},
   "outputs": [
    {
     "name": "stdout",
     "output_type": "stream",
     "text": [
      "[0, 1, 2, 3, 4, 5, 6, 7, 8, 9]\n"
     ]
    }
   ],
   "source": [
    "a=[]\n",
    "for i in  range(10):\n",
    "    a.append(i)\n",
    "print(a)    \n"
   ]
  },
  {
   "cell_type": "code",
   "execution_count": 14,
   "metadata": {},
   "outputs": [
    {
     "name": "stdout",
     "output_type": "stream",
     "text": [
      "[0, 1, 2, 3, 4, 5, 6, 7, 8, 9]\n"
     ]
    }
   ],
   "source": [
    "a=[i for i in range(10)]\n",
    "print(a)"
   ]
  },
  {
   "cell_type": "code",
   "execution_count": 17,
   "metadata": {},
   "outputs": [
    {
     "name": "stdout",
     "output_type": "stream",
     "text": [
      "[0, 1, 2, 3, 4, 5, 6, 7, 8, 9]\n"
     ]
    }
   ],
   "source": [
    "\n",
    "print([i for i in range(10)])"
   ]
  },
  {
   "cell_type": "code",
   "execution_count": 18,
   "metadata": {},
   "outputs": [
    {
     "name": "stdout",
     "output_type": "stream",
     "text": [
      "{1, 2, 3, 4, 5, 6, 7, 8, 9}\n"
     ]
    }
   ],
   "source": [
    "#set comprihenstion\n",
    "a={1}\n",
    "for i in range(2,10):\n",
    "    a.add(i)\n",
    "print(a)    "
   ]
  },
  {
   "cell_type": "code",
   "execution_count": 22,
   "metadata": {},
   "outputs": [
    {
     "name": "stdout",
     "output_type": "stream",
     "text": [
      "{0, 1}\n",
      "{0, 1, 2}\n",
      "{0, 1, 2, 3}\n",
      "{0, 1, 2, 3, 4}\n",
      "{0, 1, 2, 3, 4, 5}\n",
      "{0, 1, 2, 3, 4, 5, 6}\n",
      "{0, 1, 2, 3, 4, 5, 6, 7}\n",
      "{0, 1, 2, 3, 4, 5, 6, 7, 8}\n",
      "{0, 1, 2, 3, 4, 5, 6, 7, 8, 9}\n",
      "{0, 1, 2, 3, 4, 5, 6, 7, 8, 9}\n"
     ]
    }
   ],
   "source": [
    "a={0}\n",
    "for i in range(1,10):\n",
    "    a.add(i)\n",
    "    print(a)\n",
    "print(a)    "
   ]
  },
  {
   "cell_type": "code",
   "execution_count": 19,
   "metadata": {},
   "outputs": [
    {
     "name": "stdout",
     "output_type": "stream",
     "text": [
      "{0, 1, 2, 3, 4, 5, 6, 7, 8, 9}\n"
     ]
    }
   ],
   "source": [
    "#set comprihention\n",
    "a={0}\n",
    "for i in range(1,10):\n",
    "    a.add(i)\n",
    "print(a)    "
   ]
  },
  {
   "cell_type": "code",
   "execution_count": 20,
   "metadata": {},
   "outputs": [
    {
     "name": "stdout",
     "output_type": "stream",
     "text": [
      "{0, 1, 2, 3, 4, 5, 6, 7, 8, 9}\n"
     ]
    }
   ],
   "source": [
    "#set comprihention\n",
    "a={i for i in range(10)}\n",
    "print(a)"
   ]
  },
  {
   "cell_type": "code",
   "execution_count": 21,
   "metadata": {},
   "outputs": [
    {
     "name": "stdout",
     "output_type": "stream",
     "text": [
      "{0, 1, 2, 3, 4, 5, 6, 7, 8, 9}\n"
     ]
    }
   ],
   "source": [
    "print({i for i in range(10)})"
   ]
  },
  {
   "cell_type": "code",
   "execution_count": 25,
   "metadata": {},
   "outputs": [
    {
     "name": "stdout",
     "output_type": "stream",
     "text": [
      "{0, 1, 4}\n",
      "{0, 1, 4}\n",
      "{0, 1, 2, 4}\n",
      "{0, 1, 2, 3, 4}\n",
      "{0, 1, 2, 3, 4}\n",
      "{0, 1, 2, 3, 4, 5}\n",
      "{0, 1, 2, 3, 4, 5, 6}\n",
      "{0, 1, 2, 3, 4, 5, 6, 7}\n",
      "{0, 1, 2, 3, 4, 5, 6, 7, 8}\n",
      "{0, 1, 2, 3, 4, 5, 6, 7, 8, 9}\n",
      "{0, 1, 2, 3, 4, 5, 6, 7, 8, 9}\n"
     ]
    }
   ],
   "source": [
    "#set comprihention\n",
    "a={1,4}\n",
    "for i in range(10):\n",
    "    a.add(i)\n",
    "    print(a)\n",
    "print(a)    "
   ]
  },
  {
   "cell_type": "code",
   "execution_count": 47,
   "metadata": {},
   "outputs": [
    {
     "name": "stdout",
     "output_type": "stream",
     "text": [
      "{1: 'shiv'}\n",
      "{2: 'ram'}\n",
      "{3: 'hari'}\n",
      "{4: 'krishna'}\n",
      "{5: 'sagar'}\n",
      "{6: 'rahul'}\n"
     ]
    }
   ],
   "source": [
    "#dict comprihention\n",
    "roll=1,2,3,4,5,6\n",
    "name=\"shiv\",\"ram\",\"hari\",\"krishna\",\"sagar\",\"rahul\"\n",
    "for i,j in zip(roll,name):\n",
    "    print({i:j})\n",
    "       "
   ]
  },
  {
   "cell_type": "code",
   "execution_count": 44,
   "metadata": {},
   "outputs": [
    {
     "name": "stdout",
     "output_type": "stream",
     "text": [
      "{0: 0, 1: 2, 2: 4, 3: 6, 4: 8}\n"
     ]
    }
   ],
   "source": [
    "dict={i:i*2 for i in range(5)}\n",
    "print(dict)"
   ]
  },
  {
   "cell_type": "code",
   "execution_count": 54,
   "metadata": {},
   "outputs": [
    {
     "name": "stdout",
     "output_type": "stream",
     "text": [
      "{1: 'shiv', 2: 'ram', 3: 'hari', 4: 'krishna', 5: 'sagar', 6: 'rahul'}\n"
     ]
    }
   ],
   "source": [
    "\n",
    "roll=1,2,3,4,5,6\n",
    "name=\"shiv\",\"ram\",\"hari\",\"krishna\",\"sagar\",\"rahul\"\n",
    "dict={i:j for i,j  in zip(roll,name)}\n",
    "print(dict)"
   ]
  },
  {
   "cell_type": "code",
   "execution_count": 1,
   "metadata": {},
   "outputs": [
    {
     "name": "stdout",
     "output_type": "stream",
     "text": [
      "{1: 'shiv'}\n",
      "{1: 'shiv', 2: 'ram'}\n",
      "{1: 'shiv', 2: 'ram', 3: 'krishna'}\n",
      "{1: 'shiv', 2: 'ram', 3: 'krishna', 4: 'sagar'}\n",
      "{1: 'shiv', 2: 'ram', 3: 'krishna', 4: 'sagar', 5: 'rahul'}\n",
      "{1: 'shiv', 2: 'ram', 3: 'krishna', 4: 'sagar', 5: 'rahul', 6: 'sambhu'}\n"
     ]
    }
   ],
   "source": [
    "roll=[1,2,3,4,5,6]\n",
    "name=\"shiv\",\"ram\",\"krishna\",\"sagar\",\"rahul\",\"sambhu\"\n",
    "a={}\n",
    "for i,j in zip(roll,name):\n",
    "    a.update({i:j})\n",
    "    print(a)\n"
   ]
  },
  {
   "cell_type": "code",
   "execution_count": 2,
   "metadata": {},
   "outputs": [
    {
     "name": "stdout",
     "output_type": "stream",
     "text": [
      "{1: 'shiv', 2: 'ram', 3: 'krishna', 4: 'sagar', 5: 'rahul', 6: 'sambhu'}\n"
     ]
    }
   ],
   "source": [
    "roll=[1,2,3,4,5,6]\n",
    "name=\"shiv\",\"ram\",\"krishna\",\"sagar\",\"rahul\",\"sambhu\"\n",
    "a={i:j for i,j in zip(roll,name)}\n",
    "print(a)"
   ]
  },
  {
   "cell_type": "code",
   "execution_count": 3,
   "metadata": {},
   "outputs": [
    {
     "name": "stdout",
     "output_type": "stream",
     "text": [
      "{1: 'shiv', 2: 'ram', 3: 'krishna', 4: 'sagar', 5: 'rahul', 6: 'sambhu'}\n"
     ]
    }
   ],
   "source": [
    "roll=[1,2,3,4,5,6]\n",
    "name=\"shiv\",\"ram\",\"krishna\",\"sagar\",\"rahul\",\"sambhu\"\n",
    "print({i:j for i,j in  zip(roll,name)})"
   ]
  },
  {
   "cell_type": "code",
   "execution_count": 8,
   "metadata": {},
   "outputs": [
    {
     "name": "stdout",
     "output_type": "stream",
     "text": [
      "{1: 'shiv', 2: 'ram', 3: 'krishna', 4: 'sagar', 5: 'rahul', 6: 'sambhu'}\n"
     ]
    }
   ],
   "source": [
    "#dict comprihention\n",
    "print({i:j for i,j in zip([1,2,3,4,5,6],[\"shiv\",\"ram\",\"krishna\",\"sagar\",\"rahul\",\"sambhu\"])})"
   ]
  },
  {
   "cell_type": "code",
   "execution_count": 9,
   "metadata": {},
   "outputs": [
    {
     "name": "stdout",
     "output_type": "stream",
     "text": [
      "{52: 'hindi', 53: 'english', 48: 'maths', 73: 'science', 77: 'sanskrit'}\n"
     ]
    }
   ],
   "source": [
    "num=52,53,48,73,77\n",
    "subject=\"hindi\",\"english\",\"maths\",\"science\",\"sanskrit\"\n",
    "a={}\n",
    "for i,j in zip(num,subject):\n",
    "    a.update({i:j})\n",
    "print(a)    "
   ]
  },
  {
   "cell_type": "code",
   "execution_count": 10,
   "metadata": {},
   "outputs": [
    {
     "name": "stdout",
     "output_type": "stream",
     "text": [
      "{52: 'hindi', 53: 'english', 48: 'maths', 73: 'science', 77: 'sanskrit'}\n"
     ]
    }
   ],
   "source": [
    "num=52,53,48,73,77\n",
    "subject=\"hindi\",\"english\",\"maths\",\"science\",\"sanskrit\"\n",
    "a={i:j for i,j in zip(num,subject)}\n",
    "print(a)"
   ]
  },
  {
   "cell_type": "code",
   "execution_count": 11,
   "metadata": {},
   "outputs": [
    {
     "name": "stdout",
     "output_type": "stream",
     "text": [
      "{52: 'hindi', 53: 'english', 48: 'maths', 73: 'science', 77: 'sanskrit'}\n"
     ]
    }
   ],
   "source": [
    "num=52,53,48,73,77\n",
    "subject=\"hindi\",\"english\",\"maths\",\"science\",\"sanskrit\"\n",
    "print({i:j for i,j in zip(num,subject)})"
   ]
  },
  {
   "cell_type": "code",
   "execution_count": 12,
   "metadata": {},
   "outputs": [
    {
     "name": "stdout",
     "output_type": "stream",
     "text": [
      "{52: 'hindi', 53: 'english', 48: 'maths', 73: 'science', 77: 'sanskrit'}\n"
     ]
    }
   ],
   "source": [
    "#dict comprihention\n",
    "print({i:j for i,j in zip([52,53,48,73,77],[\"hindi\",\"english\",\"maths\",\"science\",\"sanskrit\"])})"
   ]
  }
 ],
 "metadata": {
  "kernelspec": {
   "display_name": "Python 3",
   "language": "python",
   "name": "python3"
  },
  "language_info": {
   "codemirror_mode": {
    "name": "ipython",
    "version": 3
   },
   "file_extension": ".py",
   "mimetype": "text/x-python",
   "name": "python",
   "nbconvert_exporter": "python",
   "pygments_lexer": "ipython3",
   "version": "3.11.1"
  },
  "orig_nbformat": 4,
  "vscode": {
   "interpreter": {
    "hash": "bda418782055e3309093e7e4a7247ebd6eeec46806dff27684291b9372624fa9"
   }
  }
 },
 "nbformat": 4,
 "nbformat_minor": 2
}
