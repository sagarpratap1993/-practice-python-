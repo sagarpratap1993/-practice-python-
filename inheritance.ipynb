{
 "cells": [
  {
   "cell_type": "code",
   "execution_count": 1,
   "metadata": {},
   "outputs": [],
   "source": [
    "#inheritance\n",
    "class papa():\n",
    "    def car(self):\n",
    "        print(\"kalyan have a car\")\n",
    "    def laptop(self):\n",
    "        print(\"kalyan have a laptop\")    "
   ]
  },
  {
   "cell_type": "code",
   "execution_count": 4,
   "metadata": {},
   "outputs": [],
   "source": [
    "class son(papa): # this is called single level inheritance \n",
    "    def __init__(self):\n",
    "        print(\"this is constructor\")\n",
    "    def mob(self):\n",
    "        print(\"sagar have a mobile\")    \n"
   ]
  },
  {
   "cell_type": "code",
   "execution_count": 5,
   "metadata": {},
   "outputs": [
    {
     "name": "stdout",
     "output_type": "stream",
     "text": [
      "this is constructor\n"
     ]
    }
   ],
   "source": [
    "sagar=son()"
   ]
  },
  {
   "cell_type": "code",
   "execution_count": 7,
   "metadata": {},
   "outputs": [
    {
     "name": "stdout",
     "output_type": "stream",
     "text": [
      "kalyan have a laptop\n"
     ]
    }
   ],
   "source": [
    "sagar.laptop()"
   ]
  },
  {
   "cell_type": "code",
   "execution_count": 14,
   "metadata": {},
   "outputs": [],
   "source": [
    "class grandfather():\n",
    "    def landlord(self):\n",
    "        print(\"i have 100 acar land\")\n",
    "class parent(grandfather):\n",
    "    def car(self):\n",
    "        print(\"I have a car\")\n",
    "    def mob(self):\n",
    "        print(\"I have a mob\")            "
   ]
  },
  {
   "cell_type": "code",
   "execution_count": 13,
   "metadata": {},
   "outputs": [],
   "source": [
    "class son(parent):  # this is called muntipal inheritance\n",
    "    def laptop(self):\n",
    "        print(\"i have a laptop\")"
   ]
  },
  {
   "cell_type": "code",
   "execution_count": 16,
   "metadata": {},
   "outputs": [],
   "source": [
    "sagar=son()"
   ]
  },
  {
   "cell_type": "code",
   "execution_count": 17,
   "metadata": {},
   "outputs": [
    {
     "name": "stdout",
     "output_type": "stream",
     "text": [
      "i have 100 acar land\n"
     ]
    }
   ],
   "source": [
    "sagar.landlord()"
   ]
  },
  {
   "cell_type": "code",
   "execution_count": 18,
   "metadata": {},
   "outputs": [
    {
     "name": "stdout",
     "output_type": "stream",
     "text": [
      "i have a laptop\n"
     ]
    }
   ],
   "source": [
    "sagar.laptop()"
   ]
  },
  {
   "cell_type": "code",
   "execution_count": 19,
   "metadata": {},
   "outputs": [],
   "source": [
    "kalyan=parent()"
   ]
  },
  {
   "cell_type": "code",
   "execution_count": 20,
   "metadata": {},
   "outputs": [
    {
     "name": "stdout",
     "output_type": "stream",
     "text": [
      "i have 100 acar land\n"
     ]
    }
   ],
   "source": [
    "kalyan.landlord()"
   ]
  },
  {
   "cell_type": "code",
   "execution_count": 21,
   "metadata": {},
   "outputs": [
    {
     "name": "stdout",
     "output_type": "stream",
     "text": [
      "I have a mob\n"
     ]
    }
   ],
   "source": [
    "kalyan.mob()"
   ]
  },
  {
   "cell_type": "code",
   "execution_count": 25,
   "metadata": {},
   "outputs": [],
   "source": [
    "class grandfather():\n",
    "    def landlord(self):\n",
    "        print(\"I have 50 acer land\")\n",
    "\n",
    "class son1(grandfather):\n",
    "    def laptop(self):\n",
    "        print(\"I have a laptop\")\n",
    "    def toy(self):\n",
    "        print(\"I have a toy\")\n",
    "\n",
    "class son2(grandfather):\n",
    "    def mob(self):\n",
    "        print(\"I have a mob\")            \n",
    "\n"
   ]
  },
  {
   "cell_type": "code",
   "execution_count": 26,
   "metadata": {},
   "outputs": [],
   "source": [
    "sagar=son1()\n",
    "rahul=son2()"
   ]
  },
  {
   "cell_type": "code",
   "execution_count": 27,
   "metadata": {},
   "outputs": [
    {
     "name": "stdout",
     "output_type": "stream",
     "text": [
      "I have 50 acer land\n"
     ]
    }
   ],
   "source": [
    "rahul.landlord()"
   ]
  },
  {
   "cell_type": "code",
   "execution_count": 28,
   "metadata": {},
   "outputs": [
    {
     "name": "stdout",
     "output_type": "stream",
     "text": [
      "I have 50 acer land\n"
     ]
    }
   ],
   "source": [
    "sagar.landlord()"
   ]
  },
  {
   "cell_type": "code",
   "execution_count": 29,
   "metadata": {},
   "outputs": [
    {
     "name": "stdout",
     "output_type": "stream",
     "text": [
      "I have a laptop\n"
     ]
    }
   ],
   "source": [
    "sagar.laptop()"
   ]
  },
  {
   "cell_type": "code",
   "execution_count": 32,
   "metadata": {},
   "outputs": [],
   "source": [
    "class father():\n",
    "    def __init__(self):\n",
    "        print(\"this is father's constructor\")\n",
    "                 \n",
    "    def landlord(self):\n",
    "        print(\"I have 50 acer land\")\n",
    "\n",
    "class mother():\n",
    "    def __init__(self):\n",
    "        print(\"this is mother's construtor\")\n",
    "    def laptop(self):\n",
    "        print(\"I have a laptop\")\n",
    "    def toy(self):\n",
    "        print(\"I have a toy\")\n",
    "\n",
    "class son(mother,father):\n",
    "    def mob(self):\n",
    "        print(\"I have a mob\")            \n"
   ]
  },
  {
   "cell_type": "code",
   "execution_count": 33,
   "metadata": {},
   "outputs": [
    {
     "name": "stdout",
     "output_type": "stream",
     "text": [
      "this is mother's construtor\n"
     ]
    }
   ],
   "source": [
    "sagar=son()"
   ]
  },
  {
   "cell_type": "code",
   "execution_count": 34,
   "metadata": {},
   "outputs": [
    {
     "name": "stdout",
     "output_type": "stream",
     "text": [
      "I have a mob\n"
     ]
    }
   ],
   "source": [
    "sagar.mob()"
   ]
  },
  {
   "cell_type": "code",
   "execution_count": 38,
   "metadata": {},
   "outputs": [],
   "source": [
    "class father():\n",
    "    def __init__(self):\n",
    "        print(\"my son become a engineer\")\n",
    "    def mob(self):\n",
    "        print(\"I have a mobile\")\n",
    "    def laptop(self):\n",
    "        print(\"I have a laptop\")\n",
    "\n",
    "\n",
    "class mother(father):\n",
    "    def __init__(self):\n",
    "        super(). __init__()\n",
    "        print(\"my son become a ias officer\")  \n",
    "    def gold():\n",
    "        print(\"I have a many gold\")     \n",
    "\n",
    "class son(mother, father):\n",
    "    def toy(self):\n",
    "        print(\"I have a many toy\")\n"
   ]
  },
  {
   "cell_type": "code",
   "execution_count": 39,
   "metadata": {},
   "outputs": [
    {
     "name": "stdout",
     "output_type": "stream",
     "text": [
      "my son become a engineer\n",
      "my son become a ias officer\n"
     ]
    }
   ],
   "source": [
    "sunita=son()"
   ]
  },
  {
   "cell_type": "code",
   "execution_count": 40,
   "metadata": {},
   "outputs": [
    {
     "name": "stdout",
     "output_type": "stream",
     "text": [
      "I have a laptop\n"
     ]
    }
   ],
   "source": [
    "sunita.laptop()"
   ]
  },
  {
   "cell_type": "code",
   "execution_count": 41,
   "metadata": {},
   "outputs": [
    {
     "name": "stdout",
     "output_type": "stream",
     "text": [
      "my son become a engineer\n",
      "my son become a ias officer\n"
     ]
    }
   ],
   "source": [
    "soniya=mother()"
   ]
  },
  {
   "cell_type": "code",
   "execution_count": 42,
   "metadata": {},
   "outputs": [
    {
     "name": "stdout",
     "output_type": "stream",
     "text": [
      "I have a mobile\n"
     ]
    }
   ],
   "source": [
    "soniya.mob()"
   ]
  },
  {
   "cell_type": "code",
   "execution_count": 46,
   "metadata": {},
   "outputs": [],
   "source": [
    "class father():\n",
    "    def __init__(self):\n",
    "        print(\"my son become a engineer\")\n",
    "    def mob(self):\n",
    "        print(\"I have a mobile\")\n",
    "    def laptop(self):\n",
    "        print(\"I have a laptop\")\n",
    "\n",
    "\n",
    "class mother(father):\n",
    "    def __init__(self):\n",
    "        super(). __init__()\n",
    "        print(\"my son become a ias officer\")  \n",
    "    def gold():\n",
    "        print(\"I have a many gold\")     \n",
    "\n",
    "class son(mother, father):\n",
    "    def __init__(self):\n",
    "        print(\"I am become a software engineer\")\n",
    "    def toy(self):\n",
    "        print(\"I have a many toy\")\n"
   ]
  },
  {
   "cell_type": "code",
   "execution_count": 47,
   "metadata": {},
   "outputs": [
    {
     "name": "stdout",
     "output_type": "stream",
     "text": [
      "I am become a software engineer\n"
     ]
    }
   ],
   "source": [
    "rahul=son()"
   ]
  },
  {
   "cell_type": "code",
   "execution_count": 48,
   "metadata": {},
   "outputs": [],
   "source": [
    "class father():\n",
    "    def __init__(self):\n",
    "        print(\"my son become a engineer\")\n",
    "    def mob(self):\n",
    "        print(\"I have a mobile\")\n",
    "    def laptop(self):\n",
    "        print(\"I have a laptop\")\n",
    "\n",
    "\n",
    "class mother(father):\n",
    "    def __init__(self):\n",
    "        super(). __init__()\n",
    "        print(\"my son become a ias officer\")  \n",
    "    def gold():\n",
    "        print(\"I have a many gold\")     \n",
    "\n",
    "class son(mother, father):\n",
    "    def __init__(self):\n",
    "        super().__init__()\n",
    "        \n",
    "        print(\"I am become a software engineer\")\n",
    "    def toy(self):\n",
    "        print(\"I have a many toy\")\n"
   ]
  },
  {
   "cell_type": "code",
   "execution_count": 49,
   "metadata": {},
   "outputs": [
    {
     "name": "stdout",
     "output_type": "stream",
     "text": [
      "my son become a engineer\n",
      "my son become a ias officer\n",
      "I am become a software engineer\n"
     ]
    }
   ],
   "source": [
    "shiv=son()"
   ]
  },
  {
   "cell_type": "code",
   "execution_count": 50,
   "metadata": {},
   "outputs": [],
   "source": [
    "class login_signup():\n",
    "    def login(self):\n",
    "        print(\"welcome to login section\")\n",
    "    def sign(self):\n",
    "        print(\"welcome to sign section\")    "
   ]
  },
  {
   "cell_type": "code",
   "execution_count": 51,
   "metadata": {},
   "outputs": [],
   "source": [
    "class student(login_signup):\n",
    "    def certificate(self):\n",
    "        print(\"you are certified\")"
   ]
  },
  {
   "cell_type": "code",
   "execution_count": 52,
   "metadata": {},
   "outputs": [],
   "source": [
    "class trainer(login_signup):\n",
    "    def paycheak(self):\n",
    "        print(\"welcome to pay cheaker section\")"
   ]
  },
  {
   "cell_type": "code",
   "execution_count": 53,
   "metadata": {},
   "outputs": [],
   "source": [
    "sagar=student()"
   ]
  },
  {
   "cell_type": "code",
   "execution_count": 54,
   "metadata": {},
   "outputs": [],
   "source": [
    "krishna=trainer()"
   ]
  },
  {
   "cell_type": "code",
   "execution_count": 55,
   "metadata": {},
   "outputs": [
    {
     "name": "stdout",
     "output_type": "stream",
     "text": [
      "welcome to pay cheaker section\n"
     ]
    }
   ],
   "source": [
    "krishna.paycheak()"
   ]
  },
  {
   "cell_type": "code",
   "execution_count": 56,
   "metadata": {},
   "outputs": [
    {
     "name": "stdout",
     "output_type": "stream",
     "text": [
      "you are certified\n"
     ]
    }
   ],
   "source": [
    "sagar.certificate()"
   ]
  },
  {
   "cell_type": "code",
   "execution_count": null,
   "metadata": {},
   "outputs": [],
   "source": [
    "#Abstraction\n",
    "# Rule1: abstract class can not be intanciate(cannot create object of class)\n",
    "#Rule2: it must inherite a obstract of class ABC\n",
    "#Rules3: it must contain at least on obstract inside a class"
   ]
  },
  {
   "cell_type": "code",
   "execution_count": 60,
   "metadata": {},
   "outputs": [],
   "source": [
    "from abc import ABC,abstractmethod\n",
    "class amazon(ABC):\n",
    "    @abstractmethod\n",
    "    def login(self):\n",
    "        print(\"welcome to login section\")\n",
    "    def signup(self):\n",
    "        print(\"welcome to signup sectoin\")    "
   ]
  },
  {
   "cell_type": "code",
   "execution_count": 61,
   "metadata": {},
   "outputs": [
    {
     "ename": "TypeError",
     "evalue": "Can't instantiate abstract class amazon with abstract method login",
     "output_type": "error",
     "traceback": [
      "\u001b[1;31m---------------------------------------------------------------------------\u001b[0m",
      "\u001b[1;31mTypeError\u001b[0m                                 Traceback (most recent call last)",
      "Cell \u001b[1;32mIn[61], line 1\u001b[0m\n\u001b[1;32m----> 1\u001b[0m sagar\u001b[39m=\u001b[39mamazon()\n",
      "\u001b[1;31mTypeError\u001b[0m: Can't instantiate abstract class amazon with abstract method login"
     ]
    }
   ],
   "source": [
    "sagar=amazon()"
   ]
  },
  {
   "cell_type": "markdown",
   "metadata": {},
   "source": []
  },
  {
   "cell_type": "code",
   "execution_count": null,
   "metadata": {},
   "outputs": [],
   "source": [
    "sagar."
   ]
  }
 ],
 "metadata": {
  "kernelspec": {
   "display_name": "Python 3",
   "language": "python",
   "name": "python3"
  },
  "language_info": {
   "codemirror_mode": {
    "name": "ipython",
    "version": 3
   },
   "file_extension": ".py",
   "mimetype": "text/x-python",
   "name": "python",
   "nbconvert_exporter": "python",
   "pygments_lexer": "ipython3",
   "version": "3.11.1"
  },
  "orig_nbformat": 4
 },
 "nbformat": 4,
 "nbformat_minor": 2
}
