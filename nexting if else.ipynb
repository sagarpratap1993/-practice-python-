{
 "cells": [
  {
   "cell_type": "code",
   "execution_count": 5,
   "metadata": {},
   "outputs": [
    {
     "name": "stdout",
     "output_type": "stream",
     "text": [
      "10\n"
     ]
    }
   ],
   "source": [
    "num1=int(input(\"Enter a number :\"))\n",
    "num2=int(input(\"Enter a number:\"))\n",
    "oper=input(\"Enter a operator:\")\n",
    "\n",
    "if oper==\"+\":\n",
    "   print(num1+num2)\n",
    "else:\n",
    "    print(num1-num2)\n",
    "    \n",
    "    "
   ]
  },
  {
   "cell_type": "code",
   "execution_count": null,
   "metadata": {},
   "outputs": [],
   "source": []
  },
  {
   "cell_type": "code",
   "execution_count": 1,
   "metadata": {},
   "outputs": [
    {
     "name": "stdout",
     "output_type": "stream",
     "text": [
      "num2 is greater then\n",
      "num3 is less then \n"
     ]
    }
   ],
   "source": [
    "num1=int(input(\"Enter a number1:\"))\n",
    "num2=int(input(\"Enter a number2:\"))\n",
    "num3=int(input(\"Enter a number3:\"))\n",
    "\n",
    "if num1<num2:\n",
    "    print(\"num2 is greater then\")\n",
    "    if num2<num3:\n",
    "        print(\"num3 is greater then\")\n",
    "    if   num3>num1:\n",
    "        print(\"num3 is less then \")    \n",
    "    else:\n",
    "        print(\"num2 is greater then\") \n",
    "else:\n",
    "    print(\"num1 is greater then\")\n",
    "\n",
    "\n",
    "\n"
   ]
  },
  {
   "cell_type": "code",
   "execution_count": 12,
   "metadata": {},
   "outputs": [
    {
     "name": "stdout",
     "output_type": "stream",
     "text": [
      "invalid syntex\n"
     ]
    }
   ],
   "source": [
    "num1=int(input(\"enter a number 1:\"))\n",
    "num2=int(input(\"enter a number 2:\"))\n",
    "oper=input(\"enter a oper\")\n",
    "if oper==\"+\":\n",
    "    print(num1+num2)\n",
    "    if oper==\"-\":\n",
    "        print(num1-num2)\n",
    "    else:\n",
    "        print(\"invalid\")\n",
    "else:\n",
    "    print(\"invalid syntex\")            \n"
   ]
  },
  {
   "cell_type": "code",
   "execution_count": 14,
   "metadata": {},
   "outputs": [
    {
     "name": "stdout",
     "output_type": "stream",
     "text": [
      "num3 is greater then\n"
     ]
    }
   ],
   "source": [
    "num1=int(input(\"Enter a number1:\"))\n",
    "num2=int(input(\"Enter a number2:\"))\n",
    "num3=int(input(\"Enter a number3:\"))\n",
    "\n",
    "if num1<num2:\n",
    "    print(\"num2 is greater then\")\n",
    "elif num2<num3:\n",
    "        print(\"num3 is greater then\")\n",
    "elif   num3>num1:\n",
    "        print(\"num3 is less then \")    \n",
    "else:\n",
    "        print(\"invalid syntex\")"
   ]
  },
  {
   "cell_type": "code",
   "execution_count": null,
   "metadata": {},
   "outputs": [],
   "source": []
  }
 ],
 "metadata": {
  "kernelspec": {
   "display_name": "Python 3",
   "language": "python",
   "name": "python3"
  },
  "language_info": {
   "codemirror_mode": {
    "name": "ipython",
    "version": 3
   },
   "file_extension": ".py",
   "mimetype": "text/x-python",
   "name": "python",
   "nbconvert_exporter": "python",
   "pygments_lexer": "ipython3",
   "version": "3.11.1"
  },
  "orig_nbformat": 4,
  "vscode": {
   "interpreter": {
    "hash": "bda418782055e3309093e7e4a7247ebd6eeec46806dff27684291b9372624fa9"
   }
  }
 },
 "nbformat": 4,
 "nbformat_minor": 2
}
