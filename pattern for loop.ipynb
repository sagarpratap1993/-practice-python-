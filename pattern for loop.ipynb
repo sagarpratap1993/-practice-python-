{
 "cells": [
  {
   "cell_type": "code",
   "execution_count": 1,
   "metadata": {},
   "outputs": [
    {
     "name": "stdout",
     "output_type": "stream",
     "text": [
      "12345\n",
      "6789\n",
      "101112\n",
      "1314\n",
      "15\n",
      "\n"
     ]
    }
   ],
   "source": [
    "a = 0\n",
    "for i in range(6):\n",
    "    for y in range(5 - (i-0)):\n",
    "        a += 1\n",
    "        print(a, end=\"\")\n",
    "    print()\n"
   ]
  },
  {
   "cell_type": "code",
   "execution_count": 2,
   "metadata": {},
   "outputs": [
    {
     "name": "stdout",
     "output_type": "stream",
     "text": [
      "9\n",
      "87\n",
      "654\n",
      "3210\n",
      "-1-2-3-4-5\n",
      "-6-7-8-9-10-11\n"
     ]
    }
   ],
   "source": [
    "a=10\n",
    "for i in range(6):\n",
    "    for y in range(5-(4-i)):\n",
    "        a-=1\n",
    "        print(a, end=\"\")\n",
    "    print()"
   ]
  },
  {
   "cell_type": "code",
   "execution_count": 5,
   "metadata": {},
   "outputs": [
    {
     "name": "stdout",
     "output_type": "stream",
     "text": [
      "98765\n",
      "4321\n",
      "0-1-2\n",
      "-3-4\n",
      "-5\n",
      "\n"
     ]
    }
   ],
   "source": [
    "a=10\n",
    "for i in range(6):\n",
    "    for x in range(5-(i-0)):\n",
    "        a-=1\n",
    "        print(a, end=\"\")\n",
    "    print()    "
   ]
  },
  {
   "cell_type": "code",
   "execution_count": 9,
   "metadata": {},
   "outputs": [
    {
     "name": "stdout",
     "output_type": "stream",
     "text": [
      "    *\n",
      "   **\n",
      "  ***\n",
      " ****\n",
      "*****\n"
     ]
    }
   ],
   "source": [
    "print(\"    *\")\n",
    "print(\"   **\")\n",
    "print(\"  ***\")\n",
    "print(\" ****\")\n",
    "print(\"*****\")"
   ]
  },
  {
   "cell_type": "code",
   "execution_count": 10,
   "metadata": {},
   "outputs": [
    {
     "name": "stdout",
     "output_type": "stream",
     "text": [
      "*    \n",
      "**   \n",
      "***  \n",
      "**** \n",
      "*****\n"
     ]
    }
   ],
   "source": [
    "print(\"*    \")\n",
    "print(\"**   \")\n",
    "print(\"***  \")\n",
    "print(\"**** \")\n",
    "print(\"*****\")"
   ]
  },
  {
   "cell_type": "code",
   "execution_count": 12,
   "metadata": {},
   "outputs": [
    {
     "name": "stdout",
     "output_type": "stream",
     "text": [
      "*    \n",
      "**   \n",
      "***  \n",
      "**** \n",
      "*****\n"
     ]
    }
   ],
   "source": [
    "print(\"*\"*1+\" \"*4)\n",
    "print(\"*\"*2+\" \"*3)\n",
    "print(\"*\"*3+\" \"*2)\n",
    "print(\"*\"*4+\" \"*1)\n",
    "print(\"*\"*5+\" \"*0)"
   ]
  },
  {
   "cell_type": "code",
   "execution_count": 13,
   "metadata": {},
   "outputs": [
    {
     "name": "stdout",
     "output_type": "stream",
     "text": [
      "    *\n",
      "   **\n",
      "  ***\n",
      " ****\n",
      "*****\n"
     ]
    }
   ],
   "source": [
    "print(\" \"*4+\"*\"*1)\n",
    "print(\" \"*3+\"*\"*2)\n",
    "print(\" \"*2+\"*\"*3)\n",
    "print(\" \"*1+\"*\"*4)\n",
    "print(\"*\"*5)"
   ]
  },
  {
   "cell_type": "code",
   "execution_count": 17,
   "metadata": {},
   "outputs": [
    {
     "name": "stdout",
     "output_type": "stream",
     "text": [
      "  *  \n",
      " * * \n",
      "* * *\n"
     ]
    }
   ],
   "source": [
    "print(\" \"*2+\"*\"+\" \"*2)\n",
    "print(\" \"*1+\"*\"+\" \"*1+\"*\"+\" \"*1)\n",
    "print(\"*\"+\" \"+\"*\"+\" \"+\"*\")\n"
   ]
  },
  {
   "cell_type": "code",
   "execution_count": 18,
   "metadata": {},
   "outputs": [
    {
     "name": "stdout",
     "output_type": "stream",
     "text": [
      "  *  \n",
      " * * \n",
      "* * *\n"
     ]
    }
   ],
   "source": [
    "print(\"  *  \")\n",
    "print(\" * * \")\n",
    "print(\"* * *\")"
   ]
  },
  {
   "cell_type": "code",
   "execution_count": 2,
   "metadata": {},
   "outputs": [
    {
     "name": "stdout",
     "output_type": "stream",
     "text": [
      "    *    \n",
      "   ***   \n",
      "  *****  \n",
      " ******* \n",
      "*********\n"
     ]
    }
   ],
   "source": [
    "print(\" \"*4+\"*\"+\" \"*4)\n",
    "print(\" \"*3+\"*\"*3+\" \"*3)\n",
    "print(\" \"*2+\"*\"*5+\" \"*2)\n",
    "print(\" \"*1+\"*\"*7+\" \"*1)\n",
    "print(\"*\"*9)"
   ]
  },
  {
   "cell_type": "code",
   "execution_count": 3,
   "metadata": {},
   "outputs": [
    {
     "name": "stdout",
     "output_type": "stream",
     "text": [
      "    *\n",
      "   **\n",
      "  ***\n",
      " ****\n",
      "*****\n"
     ]
    }
   ],
   "source": [
    "for i in range(1,6):\n",
    "    print(\" \" * (5-i)+\"*\"*(0+i))"
   ]
  },
  {
   "cell_type": "code",
   "execution_count": 4,
   "metadata": {},
   "outputs": [
    {
     "name": "stdout",
     "output_type": "stream",
     "text": [
      "*    \n",
      "**   \n",
      "***  \n",
      "**** \n",
      "*****\n"
     ]
    }
   ],
   "source": [
    "for i in range(1,6):\n",
    "    print(\"*\"*(0+i)+\" \"*(5-i))"
   ]
  },
  {
   "cell_type": "code",
   "execution_count": 5,
   "metadata": {},
   "outputs": [
    {
     "name": "stdout",
     "output_type": "stream",
     "text": [
      "    *    \n",
      "   * *   \n",
      "  * * *  \n",
      " * * * * \n",
      "* * * * *\n"
     ]
    }
   ],
   "source": [
    "print(\" \"*4+\"*\"+\" \"*4)\n",
    "print(\" \"*3+\"*\"+\" \"+\"*\"+\" \"*3)\n",
    "print(\" \"*2+\"*\"+\" \"+\"*\"+\" \"+\"*\"+\" \"*2)\n",
    "print(\" \"+\"*\"+\" \"+\"*\"+\" \"+\"*\"+\" \"+\"*\"+\" \")\n",
    "print(\"*\"+\" \"+\"*\"+\" \"+\"*\"+\" \"+\"*\"+\" \"+\"*\")"
   ]
  },
  {
   "cell_type": "code",
   "execution_count": 6,
   "metadata": {},
   "outputs": [
    {
     "name": "stdout",
     "output_type": "stream",
     "text": [
      "    1    \n",
      "   2 3   \n",
      "  4 5 6  \n",
      " 7 8 9 10 \n",
      "11 12 13 14 15\n"
     ]
    }
   ],
   "source": [
    "print(\" \"*4+\"1\"+\" \"*4)\n",
    "print(\" \"*3+\"2\"+\" \"+\"3\"+\" \"*3)\n",
    "print(\" \"*2+\"4\"+\" \"+\"5\"+\" \"+\"6\"+\" \"*2)\n",
    "print(\" \"+\"7\"+\" \"+\"8\"+\" \"+\"9\"+\" \"+\"10\"+\" \")\n",
    "print(\"11\"+\" \"+\"12\"+\" \"+\"13\"+\" \"+\"14\"+\" \"+\"15\")"
   ]
  },
  {
   "cell_type": "code",
   "execution_count": 8,
   "metadata": {},
   "outputs": [
    {
     "name": "stdout",
     "output_type": "stream",
     "text": [
      "    *    \n",
      "   ***   \n",
      "  *****  \n",
      " ******* \n",
      "*********\n"
     ]
    }
   ],
   "source": [
    "for i in range(1,6):\n",
    "    print(\" \"*(5-i)+\"*\"*(i*2-1)+\" \"*(5-i))"
   ]
  },
  {
   "cell_type": "code",
   "execution_count": 1,
   "metadata": {},
   "outputs": [
    {
     "name": "stdout",
     "output_type": "stream",
     "text": [
      "    *    \n",
      "   ***   \n",
      "  *****  \n",
      " ******* \n",
      "*********\n",
      "***********\n"
     ]
    }
   ],
   "source": [
    "for i in range(1,7):\n",
    "    print(\" \"*(5-i)+\"*\"*(i*2-1)+\" \"*(5-i))"
   ]
  },
  {
   "cell_type": "code",
   "execution_count": 5,
   "metadata": {},
   "outputs": [
    {
     "name": "stdout",
     "output_type": "stream",
     "text": [
      "          \n",
      "    **    \n",
      "   ****   \n",
      "  ******  \n",
      " ******** \n",
      "**********\n"
     ]
    }
   ],
   "source": [
    "for i in range(6):\n",
    "    print(\" \"*(5-i)+\"*\"*(2*i-0)+\" \"*(5-i))"
   ]
  },
  {
   "cell_type": "code",
   "execution_count": 6,
   "metadata": {},
   "outputs": [
    {
     "name": "stdout",
     "output_type": "stream",
     "text": [
      "1\n",
      "11\n",
      "111\n",
      "1111\n",
      "11111\n"
     ]
    }
   ],
   "source": [
    "for i in range(1,6):\n",
    "    print(\"1\"*i)"
   ]
  },
  {
   "cell_type": "code",
   "execution_count": 7,
   "metadata": {},
   "outputs": [
    {
     "name": "stdout",
     "output_type": "stream",
     "text": [
      "1\n",
      "11\n",
      "111\n"
     ]
    }
   ],
   "source": [
    "print(\"1\"*1)\n",
    "print(\"1\"*2)\n",
    "print(\"1\"*3)"
   ]
  },
  {
   "cell_type": "code",
   "execution_count": 20,
   "metadata": {},
   "outputs": [
    {
     "name": "stdout",
     "output_type": "stream",
     "text": [
      "1\n",
      "23\n",
      "456\n",
      "78910\n"
     ]
    }
   ],
   "source": [
    "a=0\n",
    "for i in range(4):\n",
    "    for x in range(5-(4-i)):\n",
    "        a+=1\n",
    "        print(a,end=\"\")\n",
    "    print()    \n",
    "      "
   ]
  },
  {
   "cell_type": "code",
   "execution_count": 6,
   "metadata": {},
   "outputs": [
    {
     "name": "stdout",
     "output_type": "stream",
     "text": [
      "1\n",
      "23\n",
      "456\n",
      "78910\n",
      "1112131415\n"
     ]
    }
   ],
   "source": [
    "a=0\n",
    "for i in range(5):\n",
    "    for x in range(5-(4-i)):\n",
    "         a+=1\n",
    "         print(a,end=\"\")\n",
    "    print()"
   ]
  },
  {
   "cell_type": "code",
   "execution_count": 7,
   "metadata": {},
   "outputs": [
    {
     "name": "stdout",
     "output_type": "stream",
     "text": [
      "1514131211\n",
      "10987\n",
      "654\n",
      "32\n",
      "1\n"
     ]
    }
   ],
   "source": [
    "a=16\n",
    "for i in range(5):\n",
    "    for x in range(5-(i-0)):\n",
    "        a-=1\n",
    "        print(a,end=\"\")\n",
    "    print()    "
   ]
  },
  {
   "cell_type": "code",
   "execution_count": 9,
   "metadata": {},
   "outputs": [
    {
     "name": "stdout",
     "output_type": "stream",
     "text": [
      "1\n",
      "22\n",
      "333\n",
      "4444\n",
      "55555\n"
     ]
    }
   ],
   "source": [
    "print(\"1\"*1)\n",
    "print(\"2\"*2)\n",
    "print(\"3\"*3)\n",
    "print(\"4\"*4)\n",
    "print(\"5\"*5)"
   ]
  },
  {
   "cell_type": "code",
   "execution_count": 11,
   "metadata": {},
   "outputs": [
    {
     "name": "stdout",
     "output_type": "stream",
     "text": [
      "1\n",
      "22\n",
      "333\n",
      "4444\n",
      "55555\n"
     ]
    }
   ],
   "source": [
    "for i in range(1,6):\n",
    "    print(f\"{i}\"*i)"
   ]
  },
  {
   "cell_type": "code",
   "execution_count": 12,
   "metadata": {},
   "outputs": [
    {
     "name": "stdout",
     "output_type": "stream",
     "text": [
      "i am 28\n"
     ]
    }
   ],
   "source": [
    "age=input(\"enter your age\")\n",
    "print(\"i am\",age)"
   ]
  },
  {
   "cell_type": "code",
   "execution_count": 15,
   "metadata": {},
   "outputs": [
    {
     "name": "stdout",
     "output_type": "stream",
     "text": [
      "i am 28\n"
     ]
    }
   ],
   "source": [
    "age=input(\"enter your age :\")\n",
    "print(f\"i am {age}\")"
   ]
  },
  {
   "cell_type": "code",
   "execution_count": 20,
   "metadata": {},
   "outputs": [
    {
     "name": "stdout",
     "output_type": "stream",
     "text": [
      "my name is sagar pratap\n",
      "my father name is kalyan kumar\n",
      "my mother name is sunita devi\n"
     ]
    }
   ],
   "source": [
    "name=input(\"enter your name:\")\n",
    "name1=input(\"enter your father name:\")\n",
    "name2=input(\"enter your name\")\n",
    "print(f\"my name is {name}\")\n",
    "print(f\"my father name is {name1}\")\n",
    "print(f\"my mother name is {name2}\")"
   ]
  },
  {
   "cell_type": "code",
   "execution_count": 27,
   "metadata": {},
   "outputs": [
    {
     "name": "stdout",
     "output_type": "stream",
     "text": [
      "my name is sunita,my father name is kalyan,my mother is sagar\n"
     ]
    }
   ],
   "source": [
    "name=input(\"enter your name\")\n",
    "name1=input(\"enter your name\")\n",
    "name2=input(\"enter your name\")\n",
    "print(\"my name is {},my father name is {},my mother is {}\".format(name2,name1,name))"
   ]
  },
  {
   "cell_type": "code",
   "execution_count": 28,
   "metadata": {},
   "outputs": [
    {
     "name": "stdout",
     "output_type": "stream",
     "text": [
      "1\n",
      "22\n",
      "333\n",
      "4444\n",
      "55555\n"
     ]
    }
   ],
   "source": [
    "for i in range(1,6):\n",
    "    print(f\"{i}\"*i)"
   ]
  },
  {
   "cell_type": "code",
   "execution_count": 30,
   "metadata": {},
   "outputs": [
    {
     "name": "stdout",
     "output_type": "stream",
     "text": [
      "1\n",
      "23\n",
      "456\n"
     ]
    }
   ],
   "source": [
    "a=0\n",
    "for i in range(3):\n",
    "    for x in range(5-(4-i)):\n",
    "        a+=1\n",
    "        print(a,end=\"\")\n",
    "    print()    "
   ]
  },
  {
   "cell_type": "code",
   "execution_count": 32,
   "metadata": {},
   "outputs": [
    {
     "name": "stdout",
     "output_type": "stream",
     "text": [
      "*\n",
      "**\n",
      "***\n"
     ]
    }
   ],
   "source": [
    "print(\"*\")\n",
    "print(\"**\")\n",
    "print(\"***\")"
   ]
  },
  {
   "cell_type": "code",
   "execution_count": 36,
   "metadata": {},
   "outputs": [
    {
     "name": "stdout",
     "output_type": "stream",
     "text": [
      "  *\n",
      " **\n",
      "***\n"
     ]
    }
   ],
   "source": [
    "print(\"  *\")\n",
    "print(\" **\")\n",
    "print(\"***\")"
   ]
  },
  {
   "cell_type": "code",
   "execution_count": 40,
   "metadata": {},
   "outputs": [
    {
     "name": "stdout",
     "output_type": "stream",
     "text": [
      "    *\n",
      "   **\n",
      "  ***\n",
      " ****\n",
      "*****\n"
     ]
    }
   ],
   "source": [
    "for i in range(5):\n",
    "    print(\" \"*(4-i)+\"*\"*(i+1))"
   ]
  },
  {
   "cell_type": "code",
   "execution_count": 42,
   "metadata": {},
   "outputs": [
    {
     "name": "stdout",
     "output_type": "stream",
     "text": [
      "*    \n",
      "**   \n",
      "***  \n",
      "**** \n",
      "*****\n"
     ]
    }
   ],
   "source": [
    "for i in range(5):\n",
    "    print(\"*\"*(i+1)+\" \"*(4-i))"
   ]
  }
 ],
 "metadata": {
  "kernelspec": {
   "display_name": "Python 3",
   "language": "python",
   "name": "python3"
  },
  "language_info": {
   "codemirror_mode": {
    "name": "ipython",
    "version": 3
   },
   "file_extension": ".py",
   "mimetype": "text/x-python",
   "name": "python",
   "nbconvert_exporter": "python",
   "pygments_lexer": "ipython3",
   "version": "3.11.1"
  },
  "orig_nbformat": 4,
  "vscode": {
   "interpreter": {
    "hash": "bda418782055e3309093e7e4a7247ebd6eeec46806dff27684291b9372624fa9"
   }
  }
 },
 "nbformat": 4,
 "nbformat_minor": 2
}
